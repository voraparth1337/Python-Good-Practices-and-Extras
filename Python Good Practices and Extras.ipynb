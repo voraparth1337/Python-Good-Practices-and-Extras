{
 "cells": [
  {
   "cell_type": "markdown",
   "metadata": {},
   "source": [
    "## Python Good Practices\n",
    "\n"
   ]
  },
  {
   "cell_type": "code",
   "execution_count": null,
   "metadata": {},
   "outputs": [],
   "source": [
    "# Swapping two variables\n",
    "\n",
    "# bad\n",
    "temp = a\n",
    "a = b\n",
    "b = temp\n",
    "\n",
    "# good\n",
    "a, b = b, a"
   ]
  },
  {
   "cell_type": "code",
   "execution_count": null,
   "metadata": {
    "collapsed": true
   },
   "outputs": [],
   "source": [
    "# Loop Unpacking\n",
    "\n",
    "# bad\n",
    "\n",
    "for bundle in zip([1,2,3],'abc'):\n",
    "    num, let = bundle\n",
    "    print(let * num)\n",
    "\n",
    "# unpack in for statement itself !\n",
    "# good\n",
    "\n",
    "for num, let in zip([1,2,3],'abc'):\n",
    "    print(let * num)\n"
   ]
  },
  {
   "cell_type": "code",
   "execution_count": 2,
   "metadata": {
    "collapsed": true
   },
   "outputs": [],
   "source": [
    "# Enumerate Iterables\n",
    "# bad\n",
    "\n",
    "for index in range(len(arr)):\n",
    "    elem = arr[index]\n",
    "    print(elem)\n",
    "\n",
    "# good\n",
    "\n",
    "for elem in arr:\n",
    "    print(elem)\n",
    "\n",
    "# bad\n",
    "\n",
    "for index in range(len(arr)):\n",
    "    elem = array[index]\n",
    "    print(index, elem)\n",
    "\n",
    "# good\n",
    "\n",
    "for index, elem in enumerate(arr):\n",
    "    print(index, elem)"
   ]
  },
  {
   "cell_type": "code",
   "execution_count": 3,
   "metadata": {
    "collapsed": true
   },
   "outputs": [],
   "source": [
    "# Joining Strings\n",
    "\n",
    "# bad\n",
    "s = ''\n",
    "for color in colors:\n",
    "    s += color\n",
    "\n",
    "# good\n",
    "s = ''.join(colors)\n",
    "\n",
    "# bad\n",
    "s = ''\n",
    "for color in colors:\n",
    "    s += color + ', '\n",
    "    s = s[:-2]\n",
    "\n",
    "# good\n",
    "s = ', '.join(colors)"
   ]
  },
  {
   "cell_type": "code",
   "execution_count": 4,
   "metadata": {
    "collapsed": true
   },
   "outputs": [],
   "source": [
    "# Reduce memory buffering\n",
    "\n",
    "# bad\n",
    "', '.join([color.upper() for color in colors])\n",
    "\n",
    "# good\n",
    "', '.join(color.upper() for color in colors)\n",
    "\n",
    "# bad\n",
    "sum([n ** 2 for n in range(1000)])\n",
    "\n",
    "# good\n",
    "sum(n ** 2 for n in range(1000))"
   ]
  },
  {
   "cell_type": "code",
   "execution_count": 5,
   "metadata": {
    "collapsed": true
   },
   "outputs": [],
   "source": [
    "# Chained Comparison Tests\n",
    "\n",
    "# bad\n",
    "return 0 < x and x < 10\n",
    "\n",
    "# good\n",
    "return 0 < x < 10"
   ]
  },
  {
   "cell_type": "code",
   "execution_count": null,
   "metadata": {
    "collapsed": true
   },
   "outputs": [],
   "source": [
    "# Use 'in' Where Possible\n",
    "\n",
    "# bad\n",
    "if d.has_key(key):\n",
    "    print(\"Here!\")\n",
    "\n",
    "# good\n",
    "if key in d:\n",
    "    print(\"Here!\")\n",
    "\n",
    "# bad    \n",
    "if x == 1 or x == 2 or x == 3:\n",
    "    return True\n",
    "\n",
    "# good\n",
    "if x in [1, 2, 3]:\n",
    "    return True\n",
    "\n",
    "# bad\n",
    "if 'hello'.find('lo') != -1:\n",
    "    print(\"Found\")\n",
    "\n",
    "# good\n",
    "if 'lo' in 'hello':\n",
    "    print(\"Found\")"
   ]
  },
  {
   "cell_type": "code",
   "execution_count": 6,
   "metadata": {
    "collapsed": true
   },
   "outputs": [],
   "source": [
    "# Boolean Tests\n",
    "# bad\n",
    "if x == True:\n",
    "    print(\"Yes\")\n",
    "\n",
    "# good\n",
    "if x:\n",
    "    print(\"Yes\")\n",
    "    \n",
    "# bad\n",
    "if len(items) > 0:\n",
    "    print(\"Nonempty\")\n",
    "\n",
    "# good\n",
    "if items:\n",
    "    print(\"Nonempty\")\n",
    "\n",
    "# bad\n",
    "if items != []:\n",
    "    print(\"Nonempty\")\n",
    "\n",
    "# good\n",
    "if items:\n",
    "    print(\"Nonempty\")\n",
    "\n",
    "# bad\n",
    "if x != None:\n",
    "    print(\"Something\")\n",
    "\n",
    "# good\n",
    "if x is not None:\n",
    "    print(\"Something\")"
   ]
  },
  {
   "cell_type": "code",
   "execution_count": null,
   "metadata": {
    "collapsed": true
   },
   "outputs": [],
   "source": [
    "# Use _ for ignored variables\n",
    "\n",
    "# bad\n",
    "for i in range(10): \n",
    "    x = input(\"> \") \n",
    "    print(x[::-1]) \n",
    "\n",
    "# good\n",
    "for _ in range(10):\n",
    "    x = input(\"> \")\n",
    "    print(x[::-1])"
   ]
  },
  {
   "cell_type": "code",
   "execution_count": null,
   "metadata": {
    "collapsed": true
   },
   "outputs": [],
   "source": [
    "# Loop techniques\n",
    "\n",
    "# bad\n",
    "for i in range(len(colors)):\n",
    "    color = colors[i]\n",
    "    name = names[i]\n",
    "    print(color, name)\n",
    "\n",
    "# good\n",
    "for color, name in zip(colors, names):\n",
    "    print(color, name)\n",
    "\n",
    "# bad\n",
    "for ind in range(len(elems) - 1, -1, -1):\n",
    "    print(elems[ind])\n",
    "\n",
    "# good\n",
    "for elem in reversed(elems):\n",
    "    print(elem)"
   ]
  },
  {
   "cell_type": "code",
   "execution_count": 7,
   "metadata": {
    "collapsed": true
   },
   "outputs": [],
   "source": [
    "# Initialize List with Minimum Capacity\n",
    "\n",
    "# bad\n",
    "nones = [None, None, None, None]\n",
    "\n",
    "# good\n",
    "nones = [None] * 4\n",
    "\n",
    "# bad\n",
    "two_dim = [[None] * 4] * 5]\n",
    "\n",
    "# good\n",
    "two_dim = [[None] * 4 for _ in range(5)]"
   ]
  },
  {
   "cell_type": "code",
   "execution_count": 8,
   "metadata": {
    "collapsed": true
   },
   "outputs": [],
   "source": [
    "# Mutable Default Parameters\n",
    "\n",
    "# bad\n",
    "def foo(n, x=[]):\n",
    "    x.append(n)\n",
    "    print(x)\n",
    "\n",
    "# good\n",
    "def foo(n, x=None):\n",
    "    if x is None:\n",
    "        x = []\n",
    "    x.append(n)\n",
    "    print(x)"
   ]
  },
  {
   "cell_type": "code",
   "execution_count": 9,
   "metadata": {
    "collapsed": true
   },
   "outputs": [],
   "source": [
    "# Format Strings\n",
    "\n",
    "# bad\n",
    "print(\"Hi %s, you have %i texts\"% (\"Sam\", 6))\n",
    "\n",
    "# good\n",
    "print(\"Hi {}, you have {} texts\".format(\"Sam\", 6))"
   ]
  },
  {
   "cell_type": "code",
   "execution_count": 10,
   "metadata": {
    "collapsed": true
   },
   "outputs": [],
   "source": [
    "# Use Comprehensions\n",
    "\n",
    "# bad\n",
    "out = []\n",
    "for word in lex:\n",
    "    if word.endswith('py'):\n",
    "        out.append(word[:-2])\n",
    "    \n",
    "# good\n",
    "out = [word[:-2] for word in lex if word.endswith('py')]"
   ]
  },
  {
   "cell_type": "code",
   "execution_count": 11,
   "metadata": {
    "collapsed": true
   },
   "outputs": [],
   "source": [
    "# Use collections and itertools\n",
    "\n",
    "# bad\n",
    "for word in lex: \n",
    "    if len(word) not in d:\n",
    "        d[len(word)] = []\n",
    "    d[len(word)].append(word)\n",
    "\n",
    "# good\n",
    "d = collections.defaultdict(list)\n",
    "for word in lex: \n",
    "    d[len(word)].append(word)"
   ]
  },
  {
   "cell_type": "code",
   "execution_count": 12,
   "metadata": {
    "collapsed": true
   },
   "outputs": [],
   "source": [
    "# Use context managers\n",
    "\n",
    "# bad\n",
    "f = open('path/to/file')\n",
    "raw = f.read() \n",
    "print(1/0)\n",
    "f.close()\n",
    "\n",
    "# good\n",
    "with open('path/to/file') as f:\n",
    "    raw = f.read() \n",
    "    print(1/0)\n",
    "    \n",
    "# bad\n",
    "lock = threading.Lock()\n",
    "lock.acquire()\n",
    "try:\n",
    "    print(1/0)\n",
    "finally:\n",
    "    lock.release()\n",
    "\n",
    "# good\n",
    "with threading.Lock():\n",
    "    print(1/0)"
   ]
  },
  {
   "cell_type": "code",
   "execution_count": 13,
   "metadata": {
    "collapsed": true
   },
   "outputs": [],
   "source": [
    "# use try and except\n",
    "\n",
    "# bad\n",
    "def safe_div(m, n):\n",
    "    if n == 0:\n",
    "        print(\"Can't divide by 0\")\n",
    "        return None\n",
    "    return m / n\n",
    "\n",
    "# good\n",
    "def safe_div(m, n):\n",
    "    try:\n",
    "        return m / n\n",
    "    except ZeroDivisionError:\n",
    "        print(\"Can't divide by 0\")\n",
    "        return None"
   ]
  },
  {
   "cell_type": "code",
   "execution_count": 15,
   "metadata": {
    "collapsed": true
   },
   "outputs": [],
   "source": [
    "# Avoid using Catch-Alls\n",
    "\n",
    "# bad\n",
    "while True:\n",
    "    try:\n",
    "    n = int(input(\"> \"))\n",
    "except:\n",
    "    print(\"Invalid input.\")\n",
    "else:\n",
    "    return n ** 2\n",
    "\n",
    "# good\n",
    "while True:\n",
    "    try:\n",
    "    n = int(input(\"> \"))\n",
    "except ValueError:\n",
    "    print(\"Invalid input.\")\n",
    "else:\n",
    "    return n ** 2\n"
   ]
  },
  {
   "cell_type": "code",
   "execution_count": null,
   "metadata": {
    "collapsed": true
   },
   "outputs": [],
   "source": [
    "# Use custom exceptions !\n",
    "\n",
    "# bad\n",
    "if not self.available_cheeses:\n",
    "    raise ValueError(\"No cheese!\")\n",
    "\n",
    "# good\n",
    "class NoCheeseError(ValueError):\n",
    "    pass\n",
    "if not self.available_cheeses:\n",
    "    raise NoCheeseError(\"I'm afraid we're right out, sir.\")"
   ]
  },
  {
   "cell_type": "code",
   "execution_count": 16,
   "metadata": {
    "collapsed": true
   },
   "outputs": [],
   "source": [
    "# Magic Methods for custom classes\n",
    "\n",
    "# bad\n",
    "class Vector():\n",
    "    def __init__(self, elems):\n",
    "        self.elems = elems\n",
    "\n",
    "    def size(self):\n",
    "        return len(self.elems)\n",
    "v = Vector([1,2]) \n",
    "len(v) # => fails\n",
    "\n",
    "# good\n",
    "class Vector():\n",
    "    def __init__(self, elems):\n",
    "        self.elems = elems\n",
    "\n",
    "    def __len__(self):\n",
    "        return len(self.elems)\n",
    "\n",
    "v = Vector([1,2]) \n",
    "len(v) # => succeeds"
   ]
  },
  {
   "cell_type": "code",
   "execution_count": null,
   "metadata": {
    "collapsed": true
   },
   "outputs": [],
   "source": [
    "# Use __name__ for scripts\n",
    "\n",
    "# bad\n",
    "def stall():\n",
    "    time.sleep(10)\n",
    "\n",
    "stall()\n",
    "\n",
    "# good\n",
    "def stall():\n",
    "    time.sleep(10)\n",
    "\n",
    "if __name__ == '__main__':\n",
    "    stall()"
   ]
  },
  {
   "cell_type": "markdown",
   "metadata": {},
   "source": [
    "## Specific Advice\n",
    "Use keyword arguments for optional, tunable parameters\n",
    "\n",
    "Utilize functional programming concepts to simplify code\n",
    "\n",
    "Employ decorators to factor out administrative logic\n",
    "\n",
    "Simplify resource management with context managers"
   ]
  },
  {
   "cell_type": "markdown",
   "metadata": {},
   "source": [
    "## General Advice\n",
    "\n",
    "Don't reinvent the wheel!\n",
    "\n",
    "Check standard library and PyPI for existing solutions.\n",
    "\n",
    "Search StackOverflow and Google for helpful tips!\n",
    "\n",
    "Know all operations on builtin types + common one-liners\n",
    "\n",
    "One line of code shouldn't be more than one English line\n"
   ]
  },
  {
   "cell_type": "markdown",
   "metadata": {},
   "source": [
    "## Zen of Python\n",
    "\n",
    "```python\n",
    "import this\n",
    "```\n",
    "> The Zen of Python, by Tim Peters.\n",
    "\n",
    "> Beautiful is better than ugly.\n",
    "\n",
    "> Explicit is better than implicit.\n",
    "\n",
    "> Simple is better than complex.\n",
    "\n",
    "> Complex is better than complicated.\n",
    "\n",
    "> Flat is better than nested.\n",
    "\n",
    "> Sparse is better than dense.\n",
    "\n",
    "> Readability counts.\n",
    "\n",
    "> Special cases aren't special enough to break the rules.\n",
    "\n",
    "> Although practicality beats purity.\n",
    "\n",
    "> Errors should never pass silently.\n",
    "\n",
    "> Unless explicitly silenced.\n",
    "\n",
    "> In the face of ambiguity, refuse the temptation to guess.\n",
    "\n",
    "> There should be one-- and preferably only one --obvious way to do it.\n",
    "\n",
    "> Although that way may not be obvious at first unless you're Dutch.\n",
    "\n",
    "> Now is better than never.\n",
    "\n",
    "> Although never is often better than *right* now.\n",
    "\n",
    "> If the implementation is hard to explain, it's a bad idea.\n",
    "\n",
    "> If the implementation is easy to explain, it may be a good idea.\n",
    "\n",
    "> Namespaces are one honking great idea -- let's do more of those!\n"
   ]
  },
  {
   "cell_type": "markdown",
   "metadata": {},
   "source": [
    "## Uncommon Python Implementations and Other Info\n",
    "\n",
    "### Jython\n",
    "\n",
    "Compiles Python to Java bytecode for JVM\n",
    "Can import Java classes as modules\n",
    "Jython2.7 fully compliant, Jython3.5 early development\n",
    "### IronPython/Python.NET\n",
    "\n",
    "Integrates Python and .NET framework (for Windows)\n",
    "Compliant with <= 2.7\n",
    "\n",
    "### BeeWare\n",
    "\n",
    "The IDEs of Python\n",
    "Write a native iOS / Android app in Python\n",
    "Python in Chrome/Safari/Firefox\n",
    "Desktop Apps for macOS, Linux, Windows\n",
    "\n",
    "### MicroPython\n",
    "\n",
    "Efficient Python implementation for microcontrollers\n",
    "\n",
    "### Extras\n",
    "\n",
    "'x' in ('x', ) is faster than 'x' == 'x' \n",
    "\n",
    "The Zen of Python is encoded in ROT13\n",
    "\n",
    "for loops can have an optional else block\n",
    "\n",
    "float('inf') returns a \"positive infinity\" upper bound\n",
    "\n",
    "Python has a small-integer cache for -5 to 256\n",
    "\n",
    "The name \"Python\" refers to Monty Python"
   ]
  }
 ],
 "metadata": {
  "kernelspec": {
   "display_name": "Python 3",
   "language": "python",
   "name": "python3"
  },
  "language_info": {
   "codemirror_mode": {
    "name": "ipython",
    "version": 3
   },
   "file_extension": ".py",
   "mimetype": "text/x-python",
   "name": "python",
   "nbconvert_exporter": "python",
   "pygments_lexer": "ipython3",
   "version": "3.6.1"
  }
 },
 "nbformat": 4,
 "nbformat_minor": 2
}
